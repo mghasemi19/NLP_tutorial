{
 "cells": [
  {
   "cell_type": "markdown",
   "metadata": {},
   "source": [
    "# Fake News Detection Model using TensorFlow in Python\n",
    "\n",
    "Fake news is a type of misinformation that can mislead readers, influence public opinion, and even damage reputations. Detecting fake news prevents its spread and protects individuals and organizations. Media outlets often use these models to help filter and verify content, ensuring that the news shared with the public is accurate."
   ]
  },
  {
   "cell_type": "code",
   "execution_count": 12,
   "metadata": {},
   "outputs": [],
   "source": [
    "import numpy as np\n",
    "import pandas as pd\n",
    "import tensorflow as tf\n",
    "from sklearn.model_selection import train_test_split\n",
    "from sklearn import preprocessing\n",
    "from tensorflow.keras.preprocessing.text import Tokenizer\n",
    "from tensorflow.keras.preprocessing.sequence import pad_sequences"
   ]
  },
  {
   "cell_type": "code",
   "execution_count": null,
   "metadata": {},
   "outputs": [
    {
     "name": "stdout",
     "output_type": "stream",
     "text": [
      "(6335, 3)\n"
     ]
    },
    {
     "data": {
      "text/html": [
       "<div>\n",
       "<style scoped>\n",
       "    .dataframe tbody tr th:only-of-type {\n",
       "        vertical-align: middle;\n",
       "    }\n",
       "\n",
       "    .dataframe tbody tr th {\n",
       "        vertical-align: top;\n",
       "    }\n",
       "\n",
       "    .dataframe thead th {\n",
       "        text-align: right;\n",
       "    }\n",
       "</style>\n",
       "<table border=\"1\" class=\"dataframe\">\n",
       "  <thead>\n",
       "    <tr style=\"text-align: right;\">\n",
       "      <th></th>\n",
       "      <th>title</th>\n",
       "      <th>text</th>\n",
       "      <th>label</th>\n",
       "    </tr>\n",
       "  </thead>\n",
       "  <tbody>\n",
       "    <tr>\n",
       "      <th>0</th>\n",
       "      <td>You Can Smell Hillary’s Fear</td>\n",
       "      <td>Daniel Greenfield, a Shillman Journalism Fello...</td>\n",
       "      <td>FAKE</td>\n",
       "    </tr>\n",
       "    <tr>\n",
       "      <th>1</th>\n",
       "      <td>Watch The Exact Moment Paul Ryan Committed Pol...</td>\n",
       "      <td>Google Pinterest Digg Linkedin Reddit Stumbleu...</td>\n",
       "      <td>FAKE</td>\n",
       "    </tr>\n",
       "    <tr>\n",
       "      <th>2</th>\n",
       "      <td>Kerry to go to Paris in gesture of sympathy</td>\n",
       "      <td>U.S. Secretary of State John F. Kerry said Mon...</td>\n",
       "      <td>REAL</td>\n",
       "    </tr>\n",
       "    <tr>\n",
       "      <th>3</th>\n",
       "      <td>Bernie supporters on Twitter erupt in anger ag...</td>\n",
       "      <td>— Kaydee King (@KaydeeKing) November 9, 2016 T...</td>\n",
       "      <td>FAKE</td>\n",
       "    </tr>\n",
       "    <tr>\n",
       "      <th>4</th>\n",
       "      <td>The Battle of New York: Why This Primary Matters</td>\n",
       "      <td>It's primary day in New York and front-runners...</td>\n",
       "      <td>REAL</td>\n",
       "    </tr>\n",
       "  </tbody>\n",
       "</table>\n",
       "</div>"
      ],
      "text/plain": [
       "                                               title  \\\n",
       "0                       You Can Smell Hillary’s Fear   \n",
       "1  Watch The Exact Moment Paul Ryan Committed Pol...   \n",
       "2        Kerry to go to Paris in gesture of sympathy   \n",
       "3  Bernie supporters on Twitter erupt in anger ag...   \n",
       "4   The Battle of New York: Why This Primary Matters   \n",
       "\n",
       "                                                text label  \n",
       "0  Daniel Greenfield, a Shillman Journalism Fello...  FAKE  \n",
       "1  Google Pinterest Digg Linkedin Reddit Stumbleu...  FAKE  \n",
       "2  U.S. Secretary of State John F. Kerry said Mon...  REAL  \n",
       "3  — Kaydee King (@KaydeeKing) November 9, 2016 T...  FAKE  \n",
       "4  It's primary day in New York and front-runners...  REAL  "
      ]
     },
     "execution_count": 16,
     "metadata": {},
     "output_type": "execute_result"
    }
   ],
   "source": [
    "# Load data for classification\n",
    "data = pd.read_csv(\"./data/news.csv\")\n",
    "data = data.drop([\"Unnamed: 0\"], axis=1)\n",
    "print(data.shape)\n",
    "data.head()"
   ]
  },
  {
   "cell_type": "code",
   "execution_count": null,
   "metadata": {},
   "outputs": [
    {
     "data": {
      "text/html": [
       "<div>\n",
       "<style scoped>\n",
       "    .dataframe tbody tr th:only-of-type {\n",
       "        vertical-align: middle;\n",
       "    }\n",
       "\n",
       "    .dataframe tbody tr th {\n",
       "        vertical-align: top;\n",
       "    }\n",
       "\n",
       "    .dataframe thead th {\n",
       "        text-align: right;\n",
       "    }\n",
       "</style>\n",
       "<table border=\"1\" class=\"dataframe\">\n",
       "  <thead>\n",
       "    <tr style=\"text-align: right;\">\n",
       "      <th></th>\n",
       "      <th>title</th>\n",
       "      <th>text</th>\n",
       "      <th>label</th>\n",
       "    </tr>\n",
       "  </thead>\n",
       "  <tbody>\n",
       "    <tr>\n",
       "      <th>0</th>\n",
       "      <td>You Can Smell Hillary’s Fear</td>\n",
       "      <td>Daniel Greenfield, a Shillman Journalism Fello...</td>\n",
       "      <td>0</td>\n",
       "    </tr>\n",
       "    <tr>\n",
       "      <th>1</th>\n",
       "      <td>Watch The Exact Moment Paul Ryan Committed Pol...</td>\n",
       "      <td>Google Pinterest Digg Linkedin Reddit Stumbleu...</td>\n",
       "      <td>0</td>\n",
       "    </tr>\n",
       "    <tr>\n",
       "      <th>2</th>\n",
       "      <td>Kerry to go to Paris in gesture of sympathy</td>\n",
       "      <td>U.S. Secretary of State John F. Kerry said Mon...</td>\n",
       "      <td>1</td>\n",
       "    </tr>\n",
       "    <tr>\n",
       "      <th>3</th>\n",
       "      <td>Bernie supporters on Twitter erupt in anger ag...</td>\n",
       "      <td>— Kaydee King (@KaydeeKing) November 9, 2016 T...</td>\n",
       "      <td>0</td>\n",
       "    </tr>\n",
       "    <tr>\n",
       "      <th>4</th>\n",
       "      <td>The Battle of New York: Why This Primary Matters</td>\n",
       "      <td>It's primary day in New York and front-runners...</td>\n",
       "      <td>1</td>\n",
       "    </tr>\n",
       "  </tbody>\n",
       "</table>\n",
       "</div>"
      ],
      "text/plain": [
       "                                               title  \\\n",
       "0                       You Can Smell Hillary’s Fear   \n",
       "1  Watch The Exact Moment Paul Ryan Committed Pol...   \n",
       "2        Kerry to go to Paris in gesture of sympathy   \n",
       "3  Bernie supporters on Twitter erupt in anger ag...   \n",
       "4   The Battle of New York: Why This Primary Matters   \n",
       "\n",
       "                                                text  label  \n",
       "0  Daniel Greenfield, a Shillman Journalism Fello...      0  \n",
       "1  Google Pinterest Digg Linkedin Reddit Stumbleu...      0  \n",
       "2  U.S. Secretary of State John F. Kerry said Mon...      1  \n",
       "3  — Kaydee King (@KaydeeKing) November 9, 2016 T...      0  \n",
       "4  It's primary day in New York and front-runners...      1  "
      ]
     },
     "execution_count": 17,
     "metadata": {},
     "output_type": "execute_result"
    }
   ],
   "source": [
    "# Encode labels to 0 and 1\n",
    "le = preprocessing.LabelEncoder()\n",
    "le.fit(data['label'])\n",
    "data['label'] = le.transform(data['label'])\n",
    "data.head()"
   ]
  },
  {
   "cell_type": "code",
   "execution_count": 51,
   "metadata": {},
   "outputs": [
    {
     "data": {
      "text/plain": [
       "label\n",
       "1    3171\n",
       "0    3164\n",
       "Name: count, dtype: int64"
      ]
     },
     "execution_count": 51,
     "metadata": {},
     "output_type": "execute_result"
    }
   ],
   "source": [
    "data[\"label\"].value_counts()"
   ]
  },
  {
   "cell_type": "code",
   "execution_count": null,
   "metadata": {},
   "outputs": [],
   "source": [
    "embedding_dim = 50\n",
    "max_length = 54\n",
    "padding_type = 'post'\n",
    "trunc_type = 'post'\n",
    "oov_tok = \"<OOV>\"\n",
    "#training_size = 3000\n",
    "training_size = data.shape[0]\n",
    "test_portion = 0.1\n",
    "\n",
    "title = []      # list to store all titles\n",
    "text = []       # list to store all text bodies\n",
    "labels = []     # list to store all labels\n",
    "\n",
    "# loop through first training_size samples and extract fields\n",
    "for x in range(training_size):\n",
    "    title.append(data['title'][x])    # add title at index x\n",
    "    text.append(data['text'][x])      # add text at index x\n",
    "    labels.append(data['label'][x])   # add label at index x\n",
    "\n",
    "tokenizer1 = Tokenizer()  # create a tokenizer for text preprocessing\n",
    "tokenizer1.fit_on_texts(title)  # build word index based on all titles\n",
    "\n",
    "word_index1 = tokenizer1.word_index   # dictionary: word -> integer index\n",
    "vocab_size1 = len(word_index1)        # number of unique words in titles\n",
    "\n",
    "sequences1 = tokenizer1.texts_to_sequences(title)   # convert each title into list of integers (token IDs)\n",
    "\n",
    "# pad/truncate sequences so they all have same length\n",
    "padded1 = pad_sequences(sequences1, padding=padding_type, truncating=trunc_type)  \n"
   ]
  },
  {
   "cell_type": "code",
   "execution_count": 41,
   "metadata": {},
   "outputs": [
    {
     "name": "stdout",
     "output_type": "stream",
     "text": [
      "11721\n"
     ]
    }
   ],
   "source": [
    "print(vocab_size1)"
   ]
  },
  {
   "cell_type": "code",
   "execution_count": null,
   "metadata": {},
   "outputs": [],
   "source": [
    "# splitting Data for Training and Testing\n",
    "split = int(test_portion * training_size)\n",
    "training_sequences1 = padded1[split:training_size]\n",
    "training_labels = labels[split:training_size]\n",
    "test_sequences1 = padded1[0:split]\n",
    "test_labels = labels[0:split]"
   ]
  },
  {
   "cell_type": "code",
   "execution_count": null,
   "metadata": {},
   "outputs": [],
   "source": [
    "# pre-trained Glove embedding matrix for the model \n",
    "embedding_index = {}\n",
    "with open(r\"C:\\Users\\meisa\\Downloads\\Compressed\\glove.6B\\glove.6B.50d.txt\", 'r', encoding='utf-8') as f:\n",
    "    for line in f:                     # Each line: word val1 val2 val3 ... val50\n",
    "        values = line.split()          # split into word + numbers\n",
    "        word = values[0]               # first entry is the word\n",
    "        coefs = np.asarray(values[1:], dtype='float32')  # rest are floats\n",
    "        embedding_index[word] = coefs  # save in dictionary\n",
    "        \n",
    "embedding_matrix = np.zeros((vocab_size1 + 1, embedding_dim))\n",
    "\n",
    "for word, i in word_index1.items():   # iterate over all words in your tokenizer\n",
    "    if i < vocab_size1:\n",
    "        embedding_vector = embedding_index.get(word)  # get GloVe vector if exists\n",
    "        if embedding_vector is not None:\n",
    "            embedding_matrix[i] = embedding_vector    # place it in the right row"
   ]
  },
  {
   "cell_type": "code",
   "execution_count": 40,
   "metadata": {},
   "outputs": [
    {
     "data": {
      "text/plain": [
       "(11722, 50)"
      ]
     },
     "execution_count": 40,
     "metadata": {},
     "output_type": "execute_result"
    }
   ],
   "source": [
    "embedding_matrix.shape"
   ]
  },
  {
   "cell_type": "code",
   "execution_count": null,
   "metadata": {},
   "outputs": [
    {
     "name": "stderr",
     "output_type": "stream",
     "text": [
      "C:\\Users\\meisa\\AppData\\Local\\Packages\\PythonSoftwareFoundation.Python.3.10_qbz5n2kfra8p0\\LocalCache\\local-packages\\Python310\\site-packages\\keras\\src\\layers\\core\\embedding.py:97: UserWarning: Argument `input_length` is deprecated. Just remove it.\n",
      "  warnings.warn(\n"
     ]
    },
    {
     "data": {
      "text/html": [
       "<pre style=\"white-space:pre;overflow-x:auto;line-height:normal;font-family:Menlo,'DejaVu Sans Mono',consolas,'Courier New',monospace\"><span style=\"font-weight: bold\">Model: \"sequential\"</span>\n",
       "</pre>\n"
      ],
      "text/plain": [
       "\u001b[1mModel: \"sequential\"\u001b[0m\n"
      ]
     },
     "metadata": {},
     "output_type": "display_data"
    },
    {
     "data": {
      "text/html": [
       "<pre style=\"white-space:pre;overflow-x:auto;line-height:normal;font-family:Menlo,'DejaVu Sans Mono',consolas,'Courier New',monospace\">┏━━━━━━━━━━━━━━━━━━━━━━━━━━━━━━━━━┳━━━━━━━━━━━━━━━━━━━━━━━━┳━━━━━━━━━━━━━━━┓\n",
       "┃<span style=\"font-weight: bold\"> Layer (type)                    </span>┃<span style=\"font-weight: bold\"> Output Shape           </span>┃<span style=\"font-weight: bold\">       Param # </span>┃\n",
       "┡━━━━━━━━━━━━━━━━━━━━━━━━━━━━━━━━━╇━━━━━━━━━━━━━━━━━━━━━━━━╇━━━━━━━━━━━━━━━┩\n",
       "│ embedding (<span style=\"color: #0087ff; text-decoration-color: #0087ff\">Embedding</span>)           │ ?                      │       <span style=\"color: #00af00; text-decoration-color: #00af00\">586,100</span> │\n",
       "├─────────────────────────────────┼────────────────────────┼───────────────┤\n",
       "│ dropout (<span style=\"color: #0087ff; text-decoration-color: #0087ff\">Dropout</span>)               │ ?                      │             <span style=\"color: #00af00; text-decoration-color: #00af00\">0</span> │\n",
       "├─────────────────────────────────┼────────────────────────┼───────────────┤\n",
       "│ conv1d (<span style=\"color: #0087ff; text-decoration-color: #0087ff\">Conv1D</span>)                 │ ?                      │   <span style=\"color: #00af00; text-decoration-color: #00af00\">0</span> (unbuilt) │\n",
       "├─────────────────────────────────┼────────────────────────┼───────────────┤\n",
       "│ max_pooling1d (<span style=\"color: #0087ff; text-decoration-color: #0087ff\">MaxPooling1D</span>)    │ ?                      │             <span style=\"color: #00af00; text-decoration-color: #00af00\">0</span> │\n",
       "├─────────────────────────────────┼────────────────────────┼───────────────┤\n",
       "│ lstm (<span style=\"color: #0087ff; text-decoration-color: #0087ff\">LSTM</span>)                     │ ?                      │   <span style=\"color: #00af00; text-decoration-color: #00af00\">0</span> (unbuilt) │\n",
       "├─────────────────────────────────┼────────────────────────┼───────────────┤\n",
       "│ dense (<span style=\"color: #0087ff; text-decoration-color: #0087ff\">Dense</span>)                   │ ?                      │   <span style=\"color: #00af00; text-decoration-color: #00af00\">0</span> (unbuilt) │\n",
       "└─────────────────────────────────┴────────────────────────┴───────────────┘\n",
       "</pre>\n"
      ],
      "text/plain": [
       "┏━━━━━━━━━━━━━━━━━━━━━━━━━━━━━━━━━┳━━━━━━━━━━━━━━━━━━━━━━━━┳━━━━━━━━━━━━━━━┓\n",
       "┃\u001b[1m \u001b[0m\u001b[1mLayer (type)                   \u001b[0m\u001b[1m \u001b[0m┃\u001b[1m \u001b[0m\u001b[1mOutput Shape          \u001b[0m\u001b[1m \u001b[0m┃\u001b[1m \u001b[0m\u001b[1m      Param #\u001b[0m\u001b[1m \u001b[0m┃\n",
       "┡━━━━━━━━━━━━━━━━━━━━━━━━━━━━━━━━━╇━━━━━━━━━━━━━━━━━━━━━━━━╇━━━━━━━━━━━━━━━┩\n",
       "│ embedding (\u001b[38;5;33mEmbedding\u001b[0m)           │ ?                      │       \u001b[38;5;34m586,100\u001b[0m │\n",
       "├─────────────────────────────────┼────────────────────────┼───────────────┤\n",
       "│ dropout (\u001b[38;5;33mDropout\u001b[0m)               │ ?                      │             \u001b[38;5;34m0\u001b[0m │\n",
       "├─────────────────────────────────┼────────────────────────┼───────────────┤\n",
       "│ conv1d (\u001b[38;5;33mConv1D\u001b[0m)                 │ ?                      │   \u001b[38;5;34m0\u001b[0m (unbuilt) │\n",
       "├─────────────────────────────────┼────────────────────────┼───────────────┤\n",
       "│ max_pooling1d (\u001b[38;5;33mMaxPooling1D\u001b[0m)    │ ?                      │             \u001b[38;5;34m0\u001b[0m │\n",
       "├─────────────────────────────────┼────────────────────────┼───────────────┤\n",
       "│ lstm (\u001b[38;5;33mLSTM\u001b[0m)                     │ ?                      │   \u001b[38;5;34m0\u001b[0m (unbuilt) │\n",
       "├─────────────────────────────────┼────────────────────────┼───────────────┤\n",
       "│ dense (\u001b[38;5;33mDense\u001b[0m)                   │ ?                      │   \u001b[38;5;34m0\u001b[0m (unbuilt) │\n",
       "└─────────────────────────────────┴────────────────────────┴───────────────┘\n"
      ]
     },
     "metadata": {},
     "output_type": "display_data"
    },
    {
     "data": {
      "text/html": [
       "<pre style=\"white-space:pre;overflow-x:auto;line-height:normal;font-family:Menlo,'DejaVu Sans Mono',consolas,'Courier New',monospace\"><span style=\"font-weight: bold\"> Total params: </span><span style=\"color: #00af00; text-decoration-color: #00af00\">586,100</span> (2.24 MB)\n",
       "</pre>\n"
      ],
      "text/plain": [
       "\u001b[1m Total params: \u001b[0m\u001b[38;5;34m586,100\u001b[0m (2.24 MB)\n"
      ]
     },
     "metadata": {},
     "output_type": "display_data"
    },
    {
     "data": {
      "text/html": [
       "<pre style=\"white-space:pre;overflow-x:auto;line-height:normal;font-family:Menlo,'DejaVu Sans Mono',consolas,'Courier New',monospace\"><span style=\"font-weight: bold\"> Trainable params: </span><span style=\"color: #00af00; text-decoration-color: #00af00\">0</span> (0.00 B)\n",
       "</pre>\n"
      ],
      "text/plain": [
       "\u001b[1m Trainable params: \u001b[0m\u001b[38;5;34m0\u001b[0m (0.00 B)\n"
      ]
     },
     "metadata": {},
     "output_type": "display_data"
    },
    {
     "data": {
      "text/html": [
       "<pre style=\"white-space:pre;overflow-x:auto;line-height:normal;font-family:Menlo,'DejaVu Sans Mono',consolas,'Courier New',monospace\"><span style=\"font-weight: bold\"> Non-trainable params: </span><span style=\"color: #00af00; text-decoration-color: #00af00\">586,100</span> (2.24 MB)\n",
       "</pre>\n"
      ],
      "text/plain": [
       "\u001b[1m Non-trainable params: \u001b[0m\u001b[38;5;34m586,100\u001b[0m (2.24 MB)\n"
      ]
     },
     "metadata": {},
     "output_type": "display_data"
    }
   ],
   "source": [
    "# sequential model with LSTM\n",
    "model = tf.keras.Sequential([\n",
    "    tf.keras.layers.Embedding(vocab_size1 + 1, embedding_dim, input_length=max_length, \n",
    "                              weights=[embedding_matrix], trainable=False),\n",
    "    tf.keras.layers.Dropout(0.2),\n",
    "    tf.keras.layers.Conv1D(64, 5, activation='relu'),\n",
    "    tf.keras.layers.MaxPooling1D(pool_size=4),\n",
    "    tf.keras.layers.LSTM(64),\n",
    "    tf.keras.layers.Dense(1, activation='sigmoid')\n",
    "])\n",
    "\n",
    "model.compile(loss='binary_crossentropy', optimizer='adam', metrics=['accuracy'])\n",
    "model.summary()"
   ]
  },
  {
   "cell_type": "code",
   "execution_count": 38,
   "metadata": {},
   "outputs": [
    {
     "name": "stdout",
     "output_type": "stream",
     "text": [
      "Epoch 1/50\n",
      "179/179 - 2s - 10ms/step - accuracy: 0.6564 - loss: 0.6198 - val_accuracy: 0.7362 - val_loss: 0.5404\n",
      "Epoch 2/50\n",
      "179/179 - 1s - 3ms/step - accuracy: 0.7113 - loss: 0.5529 - val_accuracy: 0.7504 - val_loss: 0.5107\n",
      "Epoch 3/50\n",
      "179/179 - 1s - 3ms/step - accuracy: 0.7527 - loss: 0.5006 - val_accuracy: 0.7630 - val_loss: 0.4980\n",
      "Epoch 4/50\n",
      "179/179 - 1s - 3ms/step - accuracy: 0.7781 - loss: 0.4599 - val_accuracy: 0.7741 - val_loss: 0.4833\n",
      "Epoch 5/50\n",
      "179/179 - 1s - 3ms/step - accuracy: 0.8041 - loss: 0.4213 - val_accuracy: 0.7709 - val_loss: 0.4629\n",
      "Epoch 6/50\n",
      "179/179 - 1s - 3ms/step - accuracy: 0.8250 - loss: 0.3938 - val_accuracy: 0.7551 - val_loss: 0.4846\n",
      "Epoch 7/50\n",
      "179/179 - 1s - 3ms/step - accuracy: 0.8423 - loss: 0.3569 - val_accuracy: 0.7773 - val_loss: 0.4982\n",
      "Epoch 8/50\n",
      "179/179 - 1s - 3ms/step - accuracy: 0.8464 - loss: 0.3448 - val_accuracy: 0.7788 - val_loss: 0.4736\n",
      "Epoch 9/50\n",
      "179/179 - 1s - 3ms/step - accuracy: 0.8571 - loss: 0.3290 - val_accuracy: 0.7804 - val_loss: 0.4464\n",
      "Epoch 10/50\n",
      "179/179 - 1s - 3ms/step - accuracy: 0.8720 - loss: 0.3011 - val_accuracy: 0.7930 - val_loss: 0.4633\n",
      "Epoch 11/50\n",
      "179/179 - 1s - 3ms/step - accuracy: 0.8771 - loss: 0.2858 - val_accuracy: 0.7946 - val_loss: 0.4807\n",
      "Epoch 12/50\n",
      "179/179 - 1s - 3ms/step - accuracy: 0.8839 - loss: 0.2764 - val_accuracy: 0.7630 - val_loss: 0.4937\n",
      "Epoch 13/50\n",
      "179/179 - 1s - 3ms/step - accuracy: 0.8944 - loss: 0.2550 - val_accuracy: 0.7694 - val_loss: 0.5087\n",
      "Epoch 14/50\n",
      "179/179 - 1s - 3ms/step - accuracy: 0.8916 - loss: 0.2574 - val_accuracy: 0.7741 - val_loss: 0.5632\n",
      "Epoch 15/50\n",
      "179/179 - 1s - 3ms/step - accuracy: 0.9028 - loss: 0.2271 - val_accuracy: 0.7757 - val_loss: 0.5385\n",
      "Epoch 16/50\n",
      "179/179 - 1s - 3ms/step - accuracy: 0.9093 - loss: 0.2186 - val_accuracy: 0.7599 - val_loss: 0.5940\n",
      "Epoch 17/50\n",
      "179/179 - 1s - 3ms/step - accuracy: 0.9186 - loss: 0.2037 - val_accuracy: 0.7583 - val_loss: 0.5660\n",
      "Epoch 18/50\n",
      "179/179 - 1s - 3ms/step - accuracy: 0.9123 - loss: 0.2099 - val_accuracy: 0.7662 - val_loss: 0.5788\n",
      "Epoch 19/50\n",
      "179/179 - 1s - 3ms/step - accuracy: 0.9213 - loss: 0.1962 - val_accuracy: 0.7820 - val_loss: 0.5852\n",
      "Epoch 20/50\n",
      "179/179 - 1s - 3ms/step - accuracy: 0.9260 - loss: 0.1901 - val_accuracy: 0.7630 - val_loss: 0.6404\n",
      "Epoch 21/50\n",
      "179/179 - 1s - 3ms/step - accuracy: 0.9267 - loss: 0.1826 - val_accuracy: 0.7583 - val_loss: 0.5590\n",
      "Epoch 22/50\n",
      "179/179 - 1s - 3ms/step - accuracy: 0.9256 - loss: 0.1864 - val_accuracy: 0.7630 - val_loss: 0.5951\n",
      "Epoch 23/50\n",
      "179/179 - 1s - 3ms/step - accuracy: 0.9290 - loss: 0.1770 - val_accuracy: 0.7725 - val_loss: 0.5717\n",
      "Epoch 24/50\n",
      "179/179 - 1s - 3ms/step - accuracy: 0.9307 - loss: 0.1764 - val_accuracy: 0.7662 - val_loss: 0.6636\n",
      "Epoch 25/50\n",
      "179/179 - 1s - 3ms/step - accuracy: 0.9381 - loss: 0.1555 - val_accuracy: 0.7773 - val_loss: 0.6816\n",
      "Epoch 26/50\n",
      "179/179 - 1s - 3ms/step - accuracy: 0.9411 - loss: 0.1519 - val_accuracy: 0.7788 - val_loss: 0.6739\n",
      "Epoch 27/50\n",
      "179/179 - 1s - 3ms/step - accuracy: 0.9395 - loss: 0.1467 - val_accuracy: 0.7883 - val_loss: 0.6590\n",
      "Epoch 28/50\n",
      "179/179 - 1s - 3ms/step - accuracy: 0.9432 - loss: 0.1448 - val_accuracy: 0.7852 - val_loss: 0.6609\n",
      "Epoch 29/50\n",
      "179/179 - 1s - 3ms/step - accuracy: 0.9442 - loss: 0.1416 - val_accuracy: 0.7741 - val_loss: 0.6794\n",
      "Epoch 30/50\n",
      "179/179 - 1s - 3ms/step - accuracy: 0.9441 - loss: 0.1425 - val_accuracy: 0.8025 - val_loss: 0.6696\n",
      "Epoch 31/50\n",
      "179/179 - 1s - 3ms/step - accuracy: 0.9467 - loss: 0.1398 - val_accuracy: 0.7930 - val_loss: 0.6229\n",
      "Epoch 32/50\n",
      "179/179 - 1s - 3ms/step - accuracy: 0.9420 - loss: 0.1446 - val_accuracy: 0.7662 - val_loss: 0.6352\n",
      "Epoch 33/50\n",
      "179/179 - 1s - 3ms/step - accuracy: 0.9511 - loss: 0.1277 - val_accuracy: 0.7867 - val_loss: 0.6137\n",
      "Epoch 34/50\n",
      "179/179 - 1s - 3ms/step - accuracy: 0.9518 - loss: 0.1289 - val_accuracy: 0.7978 - val_loss: 0.5933\n",
      "Epoch 35/50\n",
      "179/179 - 1s - 3ms/step - accuracy: 0.9532 - loss: 0.1245 - val_accuracy: 0.7757 - val_loss: 0.6887\n",
      "Epoch 36/50\n",
      "179/179 - 1s - 3ms/step - accuracy: 0.9509 - loss: 0.1295 - val_accuracy: 0.7978 - val_loss: 0.6275\n",
      "Epoch 37/50\n",
      "179/179 - 1s - 3ms/step - accuracy: 0.9584 - loss: 0.1130 - val_accuracy: 0.7820 - val_loss: 0.7114\n",
      "Epoch 38/50\n",
      "179/179 - 1s - 3ms/step - accuracy: 0.9512 - loss: 0.1266 - val_accuracy: 0.7867 - val_loss: 0.6798\n",
      "Epoch 39/50\n",
      "179/179 - 1s - 3ms/step - accuracy: 0.9535 - loss: 0.1167 - val_accuracy: 0.7757 - val_loss: 0.6533\n",
      "Epoch 40/50\n",
      "179/179 - 1s - 3ms/step - accuracy: 0.9525 - loss: 0.1232 - val_accuracy: 0.7820 - val_loss: 0.6323\n",
      "Epoch 41/50\n",
      "179/179 - 1s - 3ms/step - accuracy: 0.9583 - loss: 0.1096 - val_accuracy: 0.7583 - val_loss: 0.7458\n",
      "Epoch 42/50\n",
      "179/179 - 1s - 3ms/step - accuracy: 0.9616 - loss: 0.1032 - val_accuracy: 0.7946 - val_loss: 0.7624\n",
      "Epoch 43/50\n",
      "179/179 - 1s - 3ms/step - accuracy: 0.9563 - loss: 0.1129 - val_accuracy: 0.7788 - val_loss: 0.6850\n",
      "Epoch 44/50\n",
      "179/179 - 1s - 3ms/step - accuracy: 0.9619 - loss: 0.0989 - val_accuracy: 0.7725 - val_loss: 0.7808\n",
      "Epoch 45/50\n",
      "179/179 - 1s - 3ms/step - accuracy: 0.9544 - loss: 0.1153 - val_accuracy: 0.7551 - val_loss: 0.7430\n",
      "Epoch 46/50\n",
      "179/179 - 1s - 3ms/step - accuracy: 0.9572 - loss: 0.1096 - val_accuracy: 0.7757 - val_loss: 0.7216\n",
      "Epoch 47/50\n",
      "179/179 - 1s - 3ms/step - accuracy: 0.9619 - loss: 0.0952 - val_accuracy: 0.7962 - val_loss: 0.6578\n",
      "Epoch 48/50\n",
      "179/179 - 1s - 3ms/step - accuracy: 0.9618 - loss: 0.1007 - val_accuracy: 0.7962 - val_loss: 0.6441\n",
      "Epoch 49/50\n",
      "179/179 - 1s - 3ms/step - accuracy: 0.9623 - loss: 0.1019 - val_accuracy: 0.7820 - val_loss: 0.6342\n",
      "Epoch 50/50\n",
      "179/179 - 1s - 3ms/step - accuracy: 0.9626 - loss: 0.0928 - val_accuracy: 0.7820 - val_loss: 0.7393\n"
     ]
    }
   ],
   "source": [
    "history = model.fit(\n",
    "    training_sequences1, \n",
    "    np.array(training_labels), \n",
    "    epochs=50, \n",
    "    validation_data=(test_sequences1, np.array(test_labels)), \n",
    "    verbose=2\n",
    ")"
   ]
  },
  {
   "cell_type": "code",
   "execution_count": 45,
   "metadata": {},
   "outputs": [
    {
     "name": "stdout",
     "output_type": "stream",
     "text": [
      "U.S. Secretary of State John F. Kerry said Monday that he will stop in Paris later this week, amid criticism that no top American officials attended Sunday’s unity march against terrorism.\n",
      "\n",
      "Kerry said he expects to arrive in Paris Thursday evening, as he heads home after a week abroad. He said he will fly to France at the conclusion of a series of meetings scheduled for Thursday in Sofia, Bulgaria. He plans to meet the next day with Foreign Minister Laurent Fabius and President Francois Hollande, then return to Washington.\n",
      "\n",
      "The visit by Kerry, who has family and childhood ties to the country and speaks fluent French, could address some of the criticism that the United States snubbed France in its darkest hour in many years.\n",
      "\n",
      "The French press on Monday was filled with questions about why neither President Obama nor Kerry attended Sunday’s march, as about 40 leaders of other nations did. Obama was said to have stayed away because his own security needs can be taxing on a country, and Kerry had prior commitments.\n",
      "\n",
      "Among roughly 40 leaders who did attend was Israeli Prime Minister Benjamin Netanyahu, no stranger to intense security, who marched beside Hollande through the city streets. The highest ranking U.S. officials attending the march were Jane Hartley, the ambassador to France, and Victoria Nuland, the assistant secretary of state for European affairs. Attorney General Eric H. Holder Jr. was in Paris for meetings with law enforcement officials but did not participate in the march.\n",
      "\n",
      "Kerry spent Sunday at a business summit hosted by India’s prime minister, Narendra Modi. The United States is eager for India to relax stringent laws that function as barriers to foreign investment and hopes Modi’s government will act to open the huge Indian market for more American businesses.\n",
      "\n",
      "In a news conference, Kerry brushed aside criticism that the United States had not sent a more senior official to Paris as “quibbling a little bit.” He noted that many staffers of the American Embassy in Paris attended the march, including the ambassador. He said he had wanted to be present at the march himself but could not because of his prior commitments in India.\n",
      "\n",
      "“But that is why I am going there on the way home, to make it crystal clear how passionately we feel about the events that have taken place there,” he said.\n",
      "\n",
      "“And I don’t think the people of France have any doubts about America’s understanding of what happened, of our personal sense of loss and our deep commitment to the people of France in this moment of trauma.”\n",
      "1\n"
     ]
    }
   ],
   "source": [
    "print(data[\"text\"][2])\n",
    "print(data[\"label\"][2])"
   ]
  },
  {
   "cell_type": "code",
   "execution_count": 52,
   "metadata": {},
   "outputs": [
    {
     "name": "stdout",
     "output_type": "stream",
     "text": [
      "This news is False\n"
     ]
    }
   ],
   "source": [
    "# test the model\n",
    "#X = \"Karry to go to France in gesture of sympathy\"\n",
    "X = data['text'][1]\n",
    "\n",
    "sequences = tokenizer1.texts_to_sequences([X])\n",
    "sequences = pad_sequences(sequences, maxlen=max_length, padding=padding_type, truncating=trunc_type)\n",
    "if model.predict(sequences, verbose=0)[0][0] >= 0.5:\n",
    "    print(\"This news is True\")\n",
    "else:\n",
    "    print(\"This news is False\")"
   ]
  }
 ],
 "metadata": {
  "kernelspec": {
   "display_name": "Python 3",
   "language": "python",
   "name": "python3"
  },
  "language_info": {
   "codemirror_mode": {
    "name": "ipython",
    "version": 3
   },
   "file_extension": ".py",
   "mimetype": "text/x-python",
   "name": "python",
   "nbconvert_exporter": "python",
   "pygments_lexer": "ipython3",
   "version": "3.10.11"
  }
 },
 "nbformat": 4,
 "nbformat_minor": 4
}
