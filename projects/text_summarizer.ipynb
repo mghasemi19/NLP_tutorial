{
 "cells": [
  {
   "cell_type": "markdown",
   "metadata": {},
   "source": [
    "# Text Summarizer\n",
    "\n",
    "Today researches are being done in the field of text analytics. And one such application of text analytics and NLP is a Feedback Summarizer which helps in summarizing and shortening the text in the user feedback. This can be done an algorithm to reduce bodies of text but keeping its original meaning, or giving a great insight into the original text. I will be using NLTK - the Natural Language Toolkit. which will serve my purpose right. Install NLTK module on your system using : sudo pip install nltk Let's understand the steps - Step 1: Importing required libraries There are two NLTK libraries that will be necessary for building an efficient feedback summarizer."
   ]
  },
  {
   "cell_type": "code",
   "execution_count": 9,
   "metadata": {},
   "outputs": [],
   "source": [
    "# importing libraries\n",
    "import nltk\n",
    "from nltk.corpus import stopwords\n",
    "from nltk.tokenize import word_tokenize, sent_tokenize"
   ]
  },
  {
   "cell_type": "code",
   "execution_count": 10,
   "metadata": {},
   "outputs": [],
   "source": [
    "text = \"There are many techniques available to generate extractive summarization to keep it simple, \" \\\n",
    "\"I will be using an unsupervised learning approach to find the sentences similarity and rank them. Summarization \" \\\n",
    "\"can be defined as a task of producing a concise and fluent summary while preserving key information and overall meaning. \" \\\n",
    "\"One benefit of this will be, you don’t need to train and build a model prior start using it for your project. \" \\\n",
    "\"It’s good to understand Cosine similarity to make the best use of the code you are going to see. Cosine similarity \" \\\n",
    "\"is a measure of similarity between two non-zero vectors of an inner product space that measures the cosine of the \" \\\n",
    "\"angle between them. Its measures cosine of the angle between vectors. The angle will be 0 if sentences are similar.\""
   ]
  },
  {
   "cell_type": "code",
   "execution_count": null,
   "metadata": {},
   "outputs": [
    {
     "name": "stdout",
     "output_type": "stream",
     "text": [
      " There are many techniques available to generate extractive summarization to keep it simple, I will be using an unsupervised learning approach to find the sentences similarity and rank them. Cosine similarity is a measure of similarity between two non-zero vectors of an inner product space that measures the cosine of the angle between them.\n"
     ]
    }
   ],
   "source": [
    "# Tokenizing the text\n",
    "stopWords = set(stopwords.words(\"english\"))\n",
    "words = word_tokenize(text)\n",
    " \n",
    "# Creating a frequency table to keep the score of each word\n",
    "freqTable = dict()\n",
    "for word in words:\n",
    "    word = word.lower()\n",
    "    if word in stopWords:\n",
    "        continue\n",
    "    if word in freqTable:\n",
    "        freqTable[word] += 1\n",
    "    else:\n",
    "        freqTable[word] = 1\n",
    " \n",
    "# Creating a dictionary to keep the score of each sentence (sum of word score)\n",
    "sentences = sent_tokenize(text)\n",
    "sentenceValue = dict()\n",
    " \n",
    "for sentence in sentences:\n",
    "    for word, freq in freqTable.items():\n",
    "        if word in sentence.lower():\n",
    "            if sentence in sentenceValue:\n",
    "                sentenceValue[sentence] += freq\n",
    "            else:\n",
    "                sentenceValue[sentence] = freq\n",
    " \n",
    " \n",
    " \n",
    "sumValues = 0\n",
    "for sentence in sentenceValue:\n",
    "    sumValues += sentenceValue[sentence]\n",
    " \n",
    "# Average value of a sentence from the original text\n",
    "average = int(sumValues / len(sentenceValue))\n",
    " \n",
    "# Storing sentences into our summary.\n",
    "summary = ''\n",
    "for sentence in sentences:\n",
    "    if (sentence in sentenceValue) and (sentenceValue[sentence] > (1.2 * average)):\n",
    "        summary += \" \" + sentence\n",
    "print(summary)"
   ]
  }
 ],
 "metadata": {
  "kernelspec": {
   "display_name": "Python 3",
   "language": "python",
   "name": "python3"
  },
  "language_info": {
   "codemirror_mode": {
    "name": "ipython",
    "version": 3
   },
   "file_extension": ".py",
   "mimetype": "text/x-python",
   "name": "python",
   "nbconvert_exporter": "python",
   "pygments_lexer": "ipython3",
   "version": "3.10.11"
  }
 },
 "nbformat": 4,
 "nbformat_minor": 4
}
