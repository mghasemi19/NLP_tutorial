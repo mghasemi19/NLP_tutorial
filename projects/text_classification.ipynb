{
 "cells": [
  {
   "cell_type": "markdown",
   "metadata": {},
   "source": [
    "# Sentiment Analysis using RNN and LSTM\n",
    "\n",
    "This guide provides steps to perform sentiment analysis using Recurrent Neural Network (RNN) and Long Short-Term Memory (LSTM) models. We will preprocess the data, create and train the models, and build a simple GUI for sentiment prediction.\n"
   ]
  },
  {
   "cell_type": "code",
   "execution_count": 1,
   "metadata": {},
   "outputs": [
    {
     "data": {
      "text/plain": [
       "<Figure size 1000x500 with 0 Axes>"
      ]
     },
     "metadata": {},
     "output_type": "display_data"
    }
   ],
   "source": [
    "import re\n",
    "import pandas as pd\n",
    "import numpy as np\n",
    "import matplotlib.pyplot as plt\n",
    "plt.figure(figsize=(10, 5))\n",
    "import seaborn as sns\n",
    "from sklearn.model_selection import train_test_split\n",
    "import nltk\n",
    "from nltk.corpus import stopwords\n",
    "from nltk.tokenize import word_tokenize\n",
    "from collections import Counter\n",
    "import torch\n",
    "import torch.nn as nn\n",
    "import torch.optim as optim\n",
    "from torch.utils.data import DataLoader, Dataset,TensorDataset\n",
    "from nltk.stem import WordNetLemmatizer\n",
    "from tensorflow.keras.preprocessing.text import Tokenizer\n",
    "from tensorflow.keras.preprocessing.sequence import pad_sequences"
   ]
  },
  {
   "cell_type": "markdown",
   "metadata": {},
   "source": [
    "# Setup Device to Use GPU"
   ]
  },
  {
   "cell_type": "code",
   "execution_count": 2,
   "metadata": {},
   "outputs": [
    {
     "name": "stdout",
     "output_type": "stream",
     "text": [
      "Using device: cuda\n"
     ]
    }
   ],
   "source": [
    "device = torch.device(\"cuda\" if torch.cuda.is_available() else \"cpu\")\n",
    "print(f'Using device: {device}')"
   ]
  },
  {
   "cell_type": "code",
   "execution_count": 10,
   "metadata": {},
   "outputs": [
    {
     "data": {
      "text/html": [
       "<div>\n",
       "<style scoped>\n",
       "    .dataframe tbody tr th:only-of-type {\n",
       "        vertical-align: middle;\n",
       "    }\n",
       "\n",
       "    .dataframe tbody tr th {\n",
       "        vertical-align: top;\n",
       "    }\n",
       "\n",
       "    .dataframe thead th {\n",
       "        text-align: right;\n",
       "    }\n",
       "</style>\n",
       "<table border=\"1\" class=\"dataframe\">\n",
       "  <thead>\n",
       "    <tr style=\"text-align: right;\">\n",
       "      <th></th>\n",
       "      <th>sentiments</th>\n",
       "      <th>cleaned_review</th>\n",
       "      <th>cleaned_review_length</th>\n",
       "      <th>review_score</th>\n",
       "    </tr>\n",
       "  </thead>\n",
       "  <tbody>\n",
       "    <tr>\n",
       "      <th>0</th>\n",
       "      <td>positive</td>\n",
       "      <td>i wish would have gotten one earlier love it a...</td>\n",
       "      <td>19</td>\n",
       "      <td>5.0</td>\n",
       "    </tr>\n",
       "    <tr>\n",
       "      <th>1</th>\n",
       "      <td>neutral</td>\n",
       "      <td>i ve learned this lesson again open the packag...</td>\n",
       "      <td>88</td>\n",
       "      <td>1.0</td>\n",
       "    </tr>\n",
       "    <tr>\n",
       "      <th>2</th>\n",
       "      <td>neutral</td>\n",
       "      <td>it is so slow and lags find better option</td>\n",
       "      <td>9</td>\n",
       "      <td>2.0</td>\n",
       "    </tr>\n",
       "    <tr>\n",
       "      <th>3</th>\n",
       "      <td>neutral</td>\n",
       "      <td>roller ball stopped working within months of m...</td>\n",
       "      <td>12</td>\n",
       "      <td>1.0</td>\n",
       "    </tr>\n",
       "    <tr>\n",
       "      <th>4</th>\n",
       "      <td>neutral</td>\n",
       "      <td>i like the color and size but it few days out ...</td>\n",
       "      <td>21</td>\n",
       "      <td>1.0</td>\n",
       "    </tr>\n",
       "  </tbody>\n",
       "</table>\n",
       "</div>"
      ],
      "text/plain": [
       "  sentiments                                     cleaned_review  \\\n",
       "0   positive  i wish would have gotten one earlier love it a...   \n",
       "1    neutral  i ve learned this lesson again open the packag...   \n",
       "2    neutral          it is so slow and lags find better option   \n",
       "3    neutral  roller ball stopped working within months of m...   \n",
       "4    neutral  i like the color and size but it few days out ...   \n",
       "\n",
       "   cleaned_review_length  review_score  \n",
       "0                     19           5.0  \n",
       "1                     88           1.0  \n",
       "2                      9           2.0  \n",
       "3                     12           1.0  \n",
       "4                     21           1.0  "
      ]
     },
     "execution_count": 10,
     "metadata": {},
     "output_type": "execute_result"
    }
   ],
   "source": [
    "df = pd.read_csv('Data/amazon_reviews.csv')\n",
    "df.head()"
   ]
  },
  {
   "cell_type": "code",
   "execution_count": 20,
   "metadata": {},
   "outputs": [
    {
     "data": {
      "text/plain": [
       "sentiments\n",
       "positive    9503\n",
       "neutral     6300\n",
       "negative    1534\n",
       "Name: count, dtype: int64"
      ]
     },
     "execution_count": 20,
     "metadata": {},
     "output_type": "execute_result"
    }
   ],
   "source": [
    "df[\"sentiments\"].value_counts()"
   ]
  },
  {
   "cell_type": "code",
   "execution_count": 15,
   "metadata": {},
   "outputs": [
    {
     "name": "stdout",
     "output_type": "stream",
     "text": [
      "sentiments               0\n",
      "cleaned_review           0\n",
      "cleaned_review_length    0\n",
      "review_score             0\n",
      "dtype: int64\n",
      "sentiments               0\n",
      "cleaned_review           0\n",
      "cleaned_review_length    0\n",
      "review_score             0\n",
      "dtype: int64\n",
      "(17337, 4)\n"
     ]
    }
   ],
   "source": [
    "print(df.isna().sum())\n",
    "df=df.dropna()\n",
    "print(df.isna().sum())\n",
    "print(df.shape)"
   ]
  },
  {
   "cell_type": "markdown",
   "metadata": {},
   "source": [
    "# Text Preprocessing"
   ]
  },
  {
   "cell_type": "code",
   "execution_count": 12,
   "metadata": {},
   "outputs": [
    {
     "name": "stdout",
     "output_type": "stream",
     "text": [
      "Hello World  \n"
     ]
    }
   ],
   "source": [
    "text = \"Hello, World! 123 :)\"\n",
    "clean_text = re.sub(r'[^a-zA-Z\\s]', '', text)\n",
    "print(clean_text)"
   ]
  },
  {
   "cell_type": "code",
   "execution_count": 13,
   "metadata": {},
   "outputs": [],
   "source": [
    "def text_preprocessing(text):\n",
    "    text = re.sub(r'[^a-zA-Z\\s]', '', text)  \n",
    "    tokens = word_tokenize(text.lower())  \n",
    "    stop_words = set(stopwords.words('english'))\n",
    "    tokens = [token for token in tokens if token not in stop_words]  \n",
    "    lemmatizer = WordNetLemmatizer()\n",
    "    tokens = [lemmatizer.lemmatize(token) for token in tokens]\n",
    "    return ' '.join(tokens)"
   ]
  },
  {
   "cell_type": "code",
   "execution_count": 14,
   "metadata": {},
   "outputs": [],
   "source": [
    "df.loc[:, 'cleaned_review'] = df['cleaned_review'].apply(text_preprocessing)"
   ]
  },
  {
   "cell_type": "code",
   "execution_count": 16,
   "metadata": {},
   "outputs": [
    {
     "data": {
      "text/plain": [
       "0        wish would gotten one earlier love make workin...\n",
       "1        learned lesson open package use product right ...\n",
       "2                              slow lag find better option\n",
       "3        roller ball stopped working within month minim...\n",
       "4            like color size day return period hold charge\n",
       "                               ...                        \n",
       "17335    love speaker love take anywhere charge phone w...\n",
       "17336              use house easy connect loud clear music\n",
       "17337    bass good battery amazing much better charge t...\n",
       "17338                                                 love\n",
       "17339                                         mono speaker\n",
       "Name: cleaned_review, Length: 17337, dtype: object"
      ]
     },
     "execution_count": 16,
     "metadata": {},
     "output_type": "execute_result"
    }
   ],
   "source": [
    "df['cleaned_review']"
   ]
  },
  {
   "cell_type": "markdown",
   "metadata": {},
   "source": [
    "# Tokenization and Padding"
   ]
  },
  {
   "cell_type": "code",
   "execution_count": 17,
   "metadata": {},
   "outputs": [],
   "source": [
    "tokenizer = Tokenizer()\n",
    "tokenizer.fit_on_texts(df['cleaned_review'])\n",
    "sequences = tokenizer.texts_to_sequences(df['cleaned_review'])"
   ]
  },
  {
   "cell_type": "code",
   "execution_count": 24,
   "metadata": {},
   "outputs": [
    {
     "data": {
      "text/plain": [
       "[186, 16, 540, 8, 2184, 7, 69, 17, 49, 72, 616]"
      ]
     },
     "execution_count": 24,
     "metadata": {},
     "output_type": "execute_result"
    }
   ],
   "source": [
    "sequences[0]"
   ]
  },
  {
   "cell_type": "code",
   "execution_count": null,
   "metadata": {},
   "outputs": [],
   "source": [
    "max_len = max(len(seq) for seq in sequences)\n",
    "padded_sequences = pad_sequences(sequences, maxlen=max_len) \n",
    "labels = pd.get_dummies(df['sentiments']).values"
   ]
  },
  {
   "cell_type": "markdown",
   "metadata": {},
   "source": [
    "# Train-Validation Split"
   ]
  },
  {
   "cell_type": "code",
   "execution_count": 25,
   "metadata": {},
   "outputs": [],
   "source": [
    "X_train, X_val, y_train, y_val = train_test_split(padded_sequences, labels, test_size=0.2, random_state=42)"
   ]
  },
  {
   "cell_type": "code",
   "execution_count": 26,
   "metadata": {},
   "outputs": [],
   "source": [
    "train_data = TensorDataset(torch.from_numpy(X_train).long(), torch.from_numpy(y_train).float())\n",
    "val_data = TensorDataset(torch.from_numpy(X_val).long(), torch.from_numpy(y_val).float())\n",
    "train_loader = DataLoader(train_data, shuffle=True, batch_size=50)\n",
    "val_loader = DataLoader(val_data, shuffle=True, batch_size=50)"
   ]
  },
  {
   "cell_type": "markdown",
   "metadata": {},
   "source": [
    "# Define RNN and LSTM Models"
   ]
  },
  {
   "cell_type": "code",
   "execution_count": 27,
   "metadata": {},
   "outputs": [],
   "source": [
    "class RNN(nn.Module):\n",
    "    def __init__(self, output_size, embedding_dim, hidden_dim, n_layers, drop_prob=0.5):\n",
    "        super(RNN, self).__init__()\n",
    "        self.output_size = output_size\n",
    "        self.n_layers = n_layers\n",
    "        self.hidden_dim = hidden_dim\n",
    "        \n",
    "        self.embedding = nn.Embedding(len(tokenizer.word_index)+1, embedding_dim)\n",
    "        self.rnn = nn.RNN(embedding_dim, hidden_dim, n_layers, dropout=drop_prob, batch_first=True)\n",
    "        self.dropout = nn.Dropout(0.5)\n",
    "        self.fc = nn.Linear(hidden_dim, output_size)\n",
    "        \n",
    "    def forward(self, x):\n",
    "        embedded = self.embedding(x)\n",
    "        out, hidden = self.rnn(embedded)\n",
    "        out = self.dropout(out)\n",
    "        out = self.fc(out[:, -1])\n",
    "        return out"
   ]
  },
  {
   "cell_type": "code",
   "execution_count": 28,
   "metadata": {},
   "outputs": [],
   "source": [
    "class LSTM(nn.Module):\n",
    "    def __init__(self, vocab_size, embedding_dim, hidden_dim, output_size, n_layers, drop_prob=0.5):\n",
    "        super(LSTM, self).__init__()\n",
    "        self.output_size = output_size\n",
    "        self.n_layers = n_layers\n",
    "        self.hidden_dim = hidden_dim\n",
    "        \n",
    "        self.embedding = nn.Embedding(vocab_size, embedding_dim)\n",
    "        self.lstm = nn.LSTM(embedding_dim, hidden_dim, n_layers, dropout=drop_prob, batch_first=True)\n",
    "        self.dropout = nn.Dropout(drop_prob)\n",
    "        self.fc = nn.Linear(hidden_dim, output_size)\n",
    "\n",
    "    def forward(self, x):\n",
    "        embedded = self.embedding(x)\n",
    "        lstm_out, (hidden, cell) = self.lstm(embedded)\n",
    "        lstm_out = self.dropout(lstm_out[:, -1])\n",
    "        out = self.fc(lstm_out)\n",
    "        return out\n"
   ]
  },
  {
   "cell_type": "markdown",
   "metadata": {},
   "source": [
    "# Define Accuracy Function"
   ]
  },
  {
   "cell_type": "code",
   "execution_count": 29,
   "metadata": {},
   "outputs": [],
   "source": [
    "def accuracy(outputs, labels):\n",
    "    _, preds = torch.max(outputs, dim=1)\n",
    "    return torch.tensor(torch.sum(preds == labels).item() / len(preds))"
   ]
  },
  {
   "cell_type": "markdown",
   "metadata": {},
   "source": [
    "# Initialize Models"
   ]
  },
  {
   "cell_type": "code",
   "execution_count": 30,
   "metadata": {},
   "outputs": [],
   "source": [
    "# Initialize models\n",
    "epochs = 20\n",
    "output_size = 3\n",
    "embedding_dim = 400\n",
    "hidden_dim = 256\n",
    "n_layers = 2\n",
    "vocab_size = len(tokenizer.word_index) + 1\n",
    "\n",
    "rnn_model = RNN(output_size, embedding_dim, hidden_dim, n_layers).to(device)\n",
    "lstm_model = LSTM(vocab_size, embedding_dim, hidden_dim, output_size, n_layers).to(device)"
   ]
  },
  {
   "cell_type": "code",
   "execution_count": 31,
   "metadata": {},
   "outputs": [],
   "source": [
    "def print_model_summary(model, model_name):\n",
    "    print(f\"Model Summary for {model_name}\")\n",
    "    print(model)\n",
    "    print(\"\\n\")"
   ]
  },
  {
   "cell_type": "code",
   "execution_count": 32,
   "metadata": {},
   "outputs": [
    {
     "name": "stdout",
     "output_type": "stream",
     "text": [
      "Model Summary for RNN\n",
      "RNN(\n",
      "  (embedding): Embedding(8507, 400)\n",
      "  (rnn): RNN(400, 256, num_layers=2, batch_first=True, dropout=0.5)\n",
      "  (dropout): Dropout(p=0.5, inplace=False)\n",
      "  (fc): Linear(in_features=256, out_features=3, bias=True)\n",
      ")\n",
      "\n",
      "\n"
     ]
    }
   ],
   "source": [
    "print_model_summary(rnn_model, \"RNN\")"
   ]
  },
  {
   "cell_type": "code",
   "execution_count": 33,
   "metadata": {},
   "outputs": [
    {
     "name": "stdout",
     "output_type": "stream",
     "text": [
      "Model Summary for LSTM\n",
      "LSTM(\n",
      "  (embedding): Embedding(8507, 400)\n",
      "  (lstm): LSTM(400, 256, num_layers=2, batch_first=True, dropout=0.5)\n",
      "  (dropout): Dropout(p=0.5, inplace=False)\n",
      "  (fc): Linear(in_features=256, out_features=3, bias=True)\n",
      ")\n",
      "\n",
      "\n"
     ]
    }
   ],
   "source": [
    "print_model_summary(lstm_model, \"LSTM\")"
   ]
  },
  {
   "cell_type": "markdown",
   "metadata": {},
   "source": [
    "# Define Optimizers and Loss Function"
   ]
  },
  {
   "cell_type": "code",
   "execution_count": 34,
   "metadata": {},
   "outputs": [],
   "source": [
    "rnn_optimizer = optim.Adam(rnn_model.parameters(), lr=0.001)\n",
    "lstm_optimizer = optim.Adam(lstm_model.parameters(), lr=0.001)\n",
    "\n",
    "# Loss function\n",
    "criterion = nn.CrossEntropyLoss()"
   ]
  },
  {
   "cell_type": "markdown",
   "metadata": {},
   "source": [
    "# Training and Validation Function"
   ]
  },
  {
   "cell_type": "code",
   "execution_count": 35,
   "metadata": {},
   "outputs": [],
   "source": [
    "def train_and_validate(model, optimizer, criterion, train_loader, val_loader, epochs, device):\n",
    "    train_losses, val_losses, val_accs = [], [], []\n",
    "\n",
    "    for epoch in range(epochs):\n",
    "        # Training mode\n",
    "        model.train()\n",
    "        total_train_loss = 0\n",
    "        for inputs, labels in train_loader:\n",
    "            inputs, labels = inputs.to(device), labels.to(device)\n",
    "            optimizer.zero_grad()\n",
    "            output = model(inputs)\n",
    "            loss = criterion(output, torch.max(labels, 1)[1])\n",
    "            loss.backward()\n",
    "            optimizer.step()\n",
    "            total_train_loss += loss.item()\n",
    "\n",
    "        # Validation mode\n",
    "        model.eval()\n",
    "        total_val_loss, total_acc = 0, 0\n",
    "        with torch.no_grad():\n",
    "            for inputs, labels in val_loader:\n",
    "                inputs, labels = inputs.to(device), labels.to(device)\n",
    "                output = model(inputs)\n",
    "                val_loss = criterion(output, torch.max(labels, 1)[1])\n",
    "                total_val_loss += val_loss.item()\n",
    "                acc = accuracy(output, torch.max(labels, 1)[1])\n",
    "                total_acc += acc.item()\n",
    "\n",
    "        avg_train_loss = total_train_loss / len(train_loader)\n",
    "        avg_val_loss = total_val_loss / len(val_loader)\n",
    "        avg_acc = total_acc / len(val_loader)\n",
    "\n",
    "        train_losses.append(avg_train_loss)\n",
    "        val_losses.append(avg_val_loss)\n",
    "        val_accs.append(avg_acc)\n",
    "\n",
    "        print(f'Epoch: {epoch+1}/{epochs}, Train Loss: {avg_train_loss}, Val Loss: {avg_val_loss}, Val Acc: {avg_acc}')\n",
    "\n",
    "    return train_losses, val_losses, val_accs\n"
   ]
  },
  {
   "cell_type": "markdown",
   "metadata": {},
   "source": [
    "# Plotting Losses"
   ]
  },
  {
   "cell_type": "code",
   "execution_count": 36,
   "metadata": {},
   "outputs": [],
   "source": [
    "def plot_losses(Model_name, train_losses, val_losses, epochs):\n",
    "    plt.plot(range(1, epochs + 1), train_losses, label='Training Loss')\n",
    "    plt.plot(range(1, epochs + 1), val_losses, label='Validation Loss')\n",
    "    plt.title(f'Training and Validation Losses for {Model_name}')\n",
    "    plt.xlabel('Epochs')\n",
    "    plt.ylabel('Loss')\n",
    "    plt.legend()\n",
    "    plt.show()"
   ]
  },
  {
   "cell_type": "markdown",
   "metadata": {},
   "source": [
    "# Train Models"
   ]
  },
  {
   "cell_type": "code",
   "execution_count": 37,
   "metadata": {},
   "outputs": [
    {
     "name": "stdout",
     "output_type": "stream",
     "text": [
      "RNN Start Trianing: \n",
      "\n",
      "Epoch: 1/20, Train Loss: 0.6849430843437319, Val Loss: 0.5792555015001978, Val Acc: 0.7814920612743923\n",
      "Epoch: 2/20, Train Loss: 0.5484902968080781, Val Loss: 0.5764081865549088, Val Acc: 0.7796190415109907\n",
      "Epoch: 3/20, Train Loss: 0.46421124067881125, Val Loss: 0.543930459022522, Val Acc: 0.7999047585896083\n",
      "Epoch: 4/20, Train Loss: 0.3802364608473915, Val Loss: 0.5262298107147216, Val Acc: 0.8039682490485055\n",
      "Epoch: 5/20, Train Loss: 0.3027973233742251, Val Loss: 0.4676059923001698, Val Acc: 0.8379682455744062\n",
      "Epoch: 6/20, Train Loss: 0.23189567951418513, Val Loss: 0.49123241284063884, Val Acc: 0.8614920556545258\n",
      "Epoch: 7/20, Train Loss: 0.1974802806223039, Val Loss: 0.5109452192272459, Val Acc: 0.8417460262775421\n",
      "Epoch: 8/20, Train Loss: 0.16277213560135886, Val Loss: 0.5341365308101688, Val Acc: 0.8509841195174626\n",
      "Epoch: 9/20, Train Loss: 0.13347458958679395, Val Loss: 0.5476577130811555, Val Acc: 0.8637777711663928\n",
      "Epoch: 10/20, Train Loss: 0.11712097351794405, Val Loss: 0.5942895354969161, Val Acc: 0.8649841214929308\n",
      "Epoch: 11/20, Train Loss: 0.0888334309930156, Val Loss: 0.615973649001015, Val Acc: 0.8594285666942596\n",
      "Epoch: 12/20, Train Loss: 0.09660295301230906, Val Loss: 0.7415060271109853, Val Acc: 0.8508253914969308\n",
      "Epoch: 13/20, Train Loss: 0.08405195063871178, Val Loss: 0.6982701131275721, Val Acc: 0.864031742300306\n",
      "Epoch: 14/20, Train Loss: 0.05684638487446463, Val Loss: 0.7304847498424352, Val Acc: 0.863428567988532\n",
      "Epoch: 15/20, Train Loss: 0.05459294657192776, Val Loss: 0.7349346897431782, Val Acc: 0.8674285641738346\n",
      "Epoch: 16/20, Train Loss: 0.04135921995805429, Val Loss: 0.7747461404119219, Val Acc: 0.867904760156359\n",
      "Epoch: 17/20, Train Loss: 0.04031681415512689, Val Loss: 0.8207693689635822, Val Acc: 0.8666349147047315\n",
      "Epoch: 18/20, Train Loss: 0.06225771252978794, Val Loss: 0.7263906185116087, Val Acc: 0.8689841244901929\n",
      "Epoch: 19/20, Train Loss: 0.05703474287732618, Val Loss: 0.7611846632191113, Val Acc: 0.8558412654059274\n",
      "Epoch: 20/20, Train Loss: 0.06994991857062677, Val Loss: 1.1484658709594182, Val Acc: 0.762476189647402\n"
     ]
    },
    {
     "data": {
      "image/png": "[encoded data removed]",
      "text/plain": [
       "<Figure size 640x480 with 1 Axes>"
      ]
     },
     "metadata": {},
     "output_type": "display_data"
    }
   ],
   "source": [
    "print(\"RNN Start Trianing: \\n\")\n",
    "rnn_train_losses, rnn_val_losses, rnn_val_accs = train_and_validate(rnn_model, rnn_optimizer, criterion, train_loader, val_loader, epochs, device)\n",
    "plot_losses(\"RNN\",rnn_train_losses, rnn_val_losses, epochs)"
   ]
  },
  {
   "cell_type": "code",
   "execution_count": 38,
   "metadata": {},
   "outputs": [
    {
     "name": "stdout",
     "output_type": "stream",
     "text": [
      "LSTM Start Trianing: \n",
      "\n",
      "Epoch: 1/20, Train Loss: 0.5899589888269096, Val Loss: 0.4823121611561094, Val Acc: 0.8011111080646515\n",
      "Epoch: 2/20, Train Loss: 0.3755017184525085, Val Loss: 0.4140459145818438, Val Acc: 0.8379682489803859\n",
      "Epoch: 3/20, Train Loss: 0.2548243320888753, Val Loss: 0.371511963222708, Val Acc: 0.8681587244783129\n",
      "Epoch: 4/20, Train Loss: 0.17338780050413857, Val Loss: 0.3853086940944195, Val Acc: 0.8738412678241729\n",
      "Epoch: 5/20, Train Loss: 0.11358540297465787, Val Loss: 0.4394823133945465, Val Acc: 0.8709841208798544\n",
      "Epoch: 6/20, Train Loss: 0.08369113898688672, Val Loss: 0.46084270881755013, Val Acc: 0.8792698349271502\n",
      "Epoch: 7/20, Train Loss: 0.07088870045112566, Val Loss: 0.5021872773766518, Val Acc: 0.8787619003227779\n",
      "Epoch: 8/20, Train Loss: 0.051285153741465896, Val Loss: 0.5353551879525185, Val Acc: 0.8898412678922926\n",
      "Epoch: 9/20, Train Loss: 0.032182453425095264, Val Loss: 0.5909993782639503, Val Acc: 0.8879047572612763\n",
      "Epoch: 10/20, Train Loss: 0.030062016605553653, Val Loss: 0.6285154742853982, Val Acc: 0.8880634895392827\n",
      "Epoch: 11/20, Train Loss: 0.03029798325100954, Val Loss: 0.5735331631132534, Val Acc: 0.887777772120067\n",
      "Epoch: 12/20, Train Loss: 0.035116292392205206, Val Loss: 0.5938245563235666, Val Acc: 0.8873968209539141\n",
      "Epoch: 13/20, Train Loss: 0.02145734482709479, Val Loss: 0.6796957587024995, Val Acc: 0.8923492005893162\n",
      "Epoch: 14/20, Train Loss: 0.028400420915191363, Val Loss: 0.5878765109128186, Val Acc: 0.8792698349271502\n",
      "Epoch: 15/20, Train Loss: 0.02488404789247731, Val Loss: 0.6291697030221778, Val Acc: 0.8897142801965986\n",
      "Epoch: 16/20, Train Loss: 0.021219307154110505, Val Loss: 0.6930429554411344, Val Acc: 0.8937460277761732\n",
      "Epoch: 17/20, Train Loss: 0.01595628459587368, Val Loss: 0.660046658558505, Val Acc: 0.8962539613246918\n",
      "Epoch: 18/20, Train Loss: 0.01432969911346315, Val Loss: 0.8052172950335912, Val Acc: 0.8912698405129569\n",
      "Epoch: 19/20, Train Loss: 0.018306557132065606, Val Loss: 0.6830380986999703, Val Acc: 0.893714279787881\n",
      "Epoch: 20/20, Train Loss: 0.01554784929816797, Val Loss: 0.6991263316944242, Val Acc: 0.8894285670348576\n"
     ]
    },
    {
     "data": {
      "image/png": "[encoded data removed]",
      "text/plain": [
       "<Figure size 640x480 with 1 Axes>"
      ]
     },
     "metadata": {},
     "output_type": "display_data"
    }
   ],
   "source": [
    "print(\"LSTM Start Trianing: \\n\")\n",
    "lstm_train_losses, lstm_val_losses, lstm_val_accs = train_and_validate(lstm_model, lstm_optimizer, criterion, train_loader, val_loader, epochs, device)\n",
    "plot_losses(\"LSTM\",lstm_train_losses, lstm_val_losses, epochs)"
   ]
  },
  {
   "cell_type": "markdown",
   "metadata": {},
   "source": [
    "# Build GUI for Sentiment Prediction"
   ]
  },
  {
   "cell_type": "code",
   "execution_count": 40,
   "metadata": {},
   "outputs": [],
   "source": [
    "import tkinter as tk\n",
    "from tkinter import simpledialog, messagebox\n",
    "\n",
    "def predict_sentiment(model, review, tokenizer, max_len, device):\n",
    "    review_cleaned = text_preprocessing(review)\n",
    "    sequence = tokenizer.texts_to_sequences([review_cleaned])\n",
    "    padded_sequence = pad_sequences(sequence, maxlen=max_len)\n",
    "    input_tensor = torch.from_numpy(padded_sequence).long().to(device)\n",
    "    model.eval()\n",
    "    with torch.no_grad():\n",
    "        prediction = model(input_tensor)\n",
    "        predicted_index = torch.argmax(prediction, dim=1).item()\n",
    "    sentiment_map = {0: 'Negative', 1: 'Neutral', 2: 'Positive'}\n",
    "    return sentiment_map[predicted_index]\n",
    "\n",
    "def on_predict():\n",
    "    review = text_entry.get(\"1.0\", \"end-1c\")\n",
    "    if review.strip() == \"\":\n",
    "        messagebox.showinfo(\"Prediction\", \"Please enter a review for prediction.\")\n",
    "    else:\n",
    "        selected_model = model_var.get()\n",
    "        if selected_model == 'RNN':\n",
    "            model_to_use = rnn_model\n",
    "        elif selected_model == 'LSTM':\n",
    "            model_to_use = lstm_model\n",
    "        predicted_sentiment = predict_sentiment(model_to_use, review, tokenizer, max_len, device)\n",
    "        messagebox.showinfo(\"Prediction\", f\"The predicted sentiment of the review is: {predicted_sentiment}\")\n",
    "root = tk.Tk()\n",
    "root.title(\"Sentiment Analysis of Reviews\")\n",
    "text_entry = tk.Text(root, height=10, width=50)\n",
    "text_entry.pack(padx=10, pady=10)\n",
    "model_var = tk.StringVar(value='LSTM') \n",
    "rnn_button = tk.Radiobutton(root, text=\"RNN\", variable=model_var, value='RNN')\n",
    "lstm_button = tk.Radiobutton(root, text=\"LSTM\", variable=model_var, value='LSTM')\n",
    "rnn_button.pack()\n",
    "lstm_button.pack()\n",
    "predict_button = tk.Button(root, text=\"Predict Sentiment\", command=on_predict)\n",
    "predict_button.pack(pady=10)\n",
    "root.mainloop()"
   ]
  }
 ],
 "metadata": {
  "kernelspec": {
   "display_name": "Python 3",
   "language": "python",
   "name": "python3"
  },
  "language_info": {
   "codemirror_mode": {
    "name": "ipython",
    "version": 3
   },
   "file_extension": ".py",
   "mimetype": "text/x-python",
   "name": "python",
   "nbconvert_exporter": "python",
   "pygments_lexer": "ipython3",
   "version": "3.10.11"
  }
 },
 "nbformat": 4,
 "nbformat_minor": 2
}
