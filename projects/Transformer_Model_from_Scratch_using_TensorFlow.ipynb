{
  "cells": [
    {
      "cell_type": "code",
      "execution_count": 1,
      "metadata": {
        "id": "fYZFIhjBkTTd"
      },
      "outputs": [
        {
          "name": "stdout",
          "output_type": "stream",
          "text": [
            "WARNING:tensorflow:From C:\\Users\\meisa\\AppData\\Local\\Packages\\PythonSoftwareFoundation.Python.3.10_qbz5n2kfra8p0\\LocalCache\\local-packages\\Python310\\site-packages\\keras\\src\\losses.py:2976: The name tf.losses.sparse_softmax_cross_entropy is deprecated. Please use tf.compat.v1.losses.sparse_softmax_cross_entropy instead.\n",
            "\n"
          ]
        }
      ],
      "source": [
        "import tensorflow as tf\n",
        "from tensorflow.keras.layers import Dense, Input, Embedding, Dropout, LayerNormalization\n",
        "from tensorflow.keras.models import Model\n",
        "import numpy as np"
      ]
    },
    {
      "cell_type": "code",
      "execution_count": null,
      "metadata": {},
      "outputs": [],
      "source": [
        "def positional_encoding(position, d_model):\n",
        "    # position: max length of input sequence (e.g., 1000 tokens)\n",
        "    # d_model: embedding dimension (e.g., 512 for Transformer base)\n",
        "\n",
        "    # Step 1: Compute angle rates\n",
        "    angle_rads = np.arange(position)[:, np.newaxis] / np.power(10000,(2 * (np.arange(d_model) // 2)) / np.float32(d_model))\n",
        "\n",
        "    # Step 2: Apply sine to even indices (2i), cosine to odd indices (2i+1)\n",
        "    angle_rads[:, 0::2] = np.sin(angle_rads[:, 0::2])  # even dimensions\n",
        "    angle_rads[:, 1::2] = np.cos(angle_rads[:, 1::2])  # odd dimensions\n",
        "\n",
        "    # Step 3: Add batch dimension\n",
        "    return tf.cast(angle_rads[np.newaxis, ...], dtype=tf.float32)       # This makes it compatible with embeddings, which are also (batch, seq_len, d_model)."
      ]
    },
    {
      "cell_type": "code",
      "execution_count": 5,
      "metadata": {},
      "outputs": [
        {
          "name": "stdout",
          "output_type": "stream",
          "text": [
            "(1, 5, 8)\n",
            "tf.Tensor(\n",
            "[[ 0.0000000e+00  1.0000000e+00  0.0000000e+00  1.0000000e+00\n",
            "   0.0000000e+00  1.0000000e+00  0.0000000e+00  1.0000000e+00]\n",
            " [ 8.4147096e-01  5.4030228e-01  9.9833414e-02  9.9500418e-01\n",
            "   9.9998331e-03  9.9994999e-01  9.9999981e-04  9.9999952e-01]\n",
            " [ 9.0929741e-01 -4.1614684e-01  1.9866933e-01  9.8006660e-01\n",
            "   1.9998666e-02  9.9980003e-01  1.9999987e-03  9.9999797e-01]\n",
            " [ 1.4112000e-01 -9.8999250e-01  2.9552022e-01  9.5533651e-01\n",
            "   2.9995501e-02  9.9955004e-01  2.9999956e-03  9.9999553e-01]\n",
            " [-7.5680250e-01 -6.5364361e-01  3.8941833e-01  9.2106098e-01\n",
            "   3.9989334e-02  9.9920011e-01  3.9999895e-03  9.9999201e-01]], shape=(5, 8), dtype=float32)\n"
          ]
        }
      ],
      "source": [
        "pos_encoding = positional_encoding(5, 8)\n",
        "print(pos_encoding.shape)\n",
        "print(pos_encoding[0])\n"
      ]
    },
    {
      "cell_type": "code",
      "execution_count": null,
      "metadata": {
        "id": "wVXq7joAkXnJ"
      },
      "outputs": [],
      "source": [
        "class MultiHeadAttention(tf.keras.layers.Layer):\n",
        "    def __init__(self, d_model, num_heads):\n",
        "        super(MultiHeadAttention, self).__init__()\n",
        "        self.num_heads = num_heads\n",
        "        self.d_model = d_model\n",
        "        assert d_model % num_heads == 0\n",
        "        self.depth = d_model // num_heads\n",
        "        self.wq = Dense(d_model)\n",
        "        self.wk = Dense(d_model)\n",
        "        self.wv = Dense(d_model)\n",
        "        self.dense = Dense(d_model)\n",
        "\n",
        "    def split_heads(self, x, batch_size):\n",
        "        x = tf.reshape(x, (batch_size, -1, self.num_heads, self.depth))\n",
        "        return tf.transpose(x, perm=[0, 2, 1, 3])\n",
        "\n",
        "    def call(self, v, k, q, mask):\n",
        "        batch_size = tf.shape(q)[0]\n",
        "        q = self.wq(q)\n",
        "        k = self.wk(k)\n",
        "        v = self.wv(v)\n",
        "        q = self.split_heads(q, batch_size)\n",
        "        k = self.split_heads(k, batch_size)\n",
        "        v = self.split_heads(v, batch_size)\n",
        "\n",
        "        attention, attention_weights = self.scaled_dot_product_attention(q, k, v, mask)\n",
        "        attention = tf.transpose(attention, perm=[0, 2, 1, 3])\n",
        "        attention = tf.reshape(attention, (batch_size, -1, self.d_model))\n",
        "        output = self.dense(attention)\n",
        "        return output\n",
        "\n",
        "    def scaled_dot_product_attention(self, q, k, v, mask):\n",
        "      matmul_qk = tf.matmul(q, k, transpose_b=True)\n",
        "      dk = tf.cast(tf.shape(k)[-1], tf.float32)\n",
        "      scaled_attention_logits = matmul_qk / tf.math.sqrt(dk)\n",
        "\n",
        "      if mask is not None:\n",
        "          scaled_attention_logits += (mask * -1e9)\n",
        "\n",
        "      attention_weights = tf.nn.softmax(scaled_attention_logits, axis=-1)\n",
        "      output = tf.matmul(attention_weights, v)\n",
        "      return output, attention_weights"
      ]
    },
    {
      "cell_type": "code",
      "execution_count": null,
      "metadata": {
        "id": "_pgRSWGCkfkl"
      },
      "outputs": [],
      "source": [
        "class PositionwiseFeedforward(tf.keras.layers.Layer):\n",
        "    def __init__(self, d_model, dff):\n",
        "        super(PositionwiseFeedforward, self).__init__()\n",
        "        self.d_model = d_model\n",
        "        self.dff = dff\n",
        "        self.dense1 = Dense(dff, activation='relu')\n",
        "        self.dense2 = Dense(d_model)\n",
        "\n",
        "    def call(self, x):\n",
        "        x = self.dense1(x)\n",
        "        x = self.dense2(x)\n",
        "        return x"
      ]
    },
    {
      "cell_type": "code",
      "execution_count": null,
      "metadata": {
        "id": "ht5sUdUPkgrF"
      },
      "outputs": [],
      "source": [
        "class TransformerBlock(tf.keras.layers.Layer):\n",
        "    def __init__(self, d_model, num_heads, dff, dropout_rate=0.1):\n",
        "        super(TransformerBlock, self).__init__()\n",
        "        self.att = MultiHeadAttention(d_model, num_heads)\n",
        "        self.ffn = PositionwiseFeedforward(d_model, dff)\n",
        "        self.layernorm1 = LayerNormalization(epsilon=1e-6)\n",
        "        self.layernorm2 = LayerNormalization(epsilon=1e-6)\n",
        "        self.dropout1 = Dropout(dropout_rate)\n",
        "        self.dropout2 = Dropout(dropout_rate)\n",
        "\n",
        "    def call(self, x, training, mask):\n",
        "        attn_output = self.att(x, x, x, mask)\n",
        "        attn_output = self.dropout1(attn_output, training=training)\n",
        "        out1 = self.layernorm1(x + attn_output)\n",
        "        ffn_output = self.ffn(out1)\n",
        "        ffn_output = self.dropout2(ffn_output, training=training)\n",
        "        out2 = self.layernorm2(out1 + ffn_output)\n",
        "        return out2"
      ]
    },
    {
      "cell_type": "code",
      "execution_count": null,
      "metadata": {
        "id": "cv45hQakkia9"
      },
      "outputs": [],
      "source": [
        "class Encoder(tf.keras.layers.Layer):\n",
        "    def __init__(self, num_layers, d_model, num_heads, dff, input_vocab_size, maximum_position_encoding, dropout_rate=0.1):\n",
        "        super(Encoder, self).__init__()\n",
        "        self.d_model = d_model\n",
        "        self.num_layers = num_layers\n",
        "        self.embedding = Embedding(input_vocab_size, d_model)\n",
        "        self.pos_encoding = positional_encoding(maximum_position_encoding, d_model)\n",
        "        self.dropout = Dropout(dropout_rate)\n",
        "        self.enc_layers = [TransformerBlock(d_model, num_heads, dff, dropout_rate) for _ in range(num_layers)]\n",
        "\n",
        "    def call(self, x, training, mask):\n",
        "        seq_len = tf.shape(x)[1]\n",
        "        x = self.embedding(x)\n",
        "        x += self.pos_encoding[:, :seq_len, :]\n",
        "        x = self.dropout(x, training=training)\n",
        "        for i in range(self.num_layers):\n",
        "            x = self.enc_layers[i](x, training=training, mask=mask)\n",
        "        return x"
      ]
    },
    {
      "cell_type": "code",
      "execution_count": null,
      "metadata": {
        "id": "UjWzq2hBkj2N"
      },
      "outputs": [],
      "source": [
        "class Decoder(tf.keras.layers.Layer):\n",
        "    def __init__(self, num_layers, d_model, num_heads, dff, target_vocab_size, maximum_position_encoding, dropout_rate=0.1):\n",
        "        super(Decoder, self).__init__()\n",
        "        self.d_model = d_model\n",
        "        self.num_layers = num_layers\n",
        "        self.embedding = Embedding(target_vocab_size, d_model)\n",
        "        self.pos_encoding = positional_encoding(maximum_position_encoding, d_model)\n",
        "        self.dropout = Dropout(dropout_rate)\n",
        "        self.dec_layers = [TransformerBlock(d_model, num_heads, dff, dropout_rate) for _ in range(num_layers)]\n",
        "\n",
        "    def call(self, x, enc_output, training, look_ahead_mask, padding_mask):\n",
        "        seq_len = tf.shape(x)[1]\n",
        "        attention_weights = {}\n",
        "        x = self.embedding(x)\n",
        "        x += self.pos_encoding[:, :seq_len, :]\n",
        "        x = self.dropout(x, training=training)\n",
        "        for i in range(self.num_layers):\n",
        "            x = self.dec_layers[i](x, training=training, mask=look_ahead_mask)\n",
        "        return x, attention_weights"
      ]
    },
    {
      "cell_type": "code",
      "execution_count": null,
      "metadata": {
        "id": "gAwP2X_NklKd"
      },
      "outputs": [],
      "source": [
        "class Transformer(tf.keras.Model):\n",
        "    def __init__(self, num_layers, d_model, num_heads, dff,\n",
        "                 input_vocab_size, target_vocab_size, maximum_position_encoding, dropout_rate=0.1):\n",
        "        super(Transformer, self).__init__()\n",
        "        self.encoder = Encoder(num_layers, d_model, num_heads, dff,\n",
        "                               input_vocab_size, maximum_position_encoding, dropout_rate)\n",
        "        self.decoder = Decoder(num_layers, d_model, num_heads, dff,\n",
        "                               target_vocab_size, maximum_position_encoding, dropout_rate)\n",
        "        self.final_layer = Dense(target_vocab_size)\n",
        "\n",
        "    def call(self, inputs, training=False, look_ahead_mask=None, padding_mask=None):\n",
        "        inp, tar = inputs\n",
        "        enc_output = self.encoder(inp, training=training, mask=padding_mask)\n",
        "        dec_output, _ = self.decoder(tar, enc_output, training=training,\n",
        "                                    look_ahead_mask=look_ahead_mask, padding_mask=padding_mask)\n",
        "        final_output = self.final_layer(dec_output)\n",
        "\n",
        "        return final_output"
      ]
    },
    {
      "cell_type": "code",
      "execution_count": null,
      "metadata": {
        "colab": {
          "base_uri": "https://localhost:8080/"
        },
        "id": "w4DMlTvzkmqB",
        "outputId": "92fe0878-0e28-41fc-f06f-eb9743910947"
      },
      "outputs": [
        {
          "name": "stdout",
          "output_type": "stream",
          "text": [
            "(64, 50, 8000)\n"
          ]
        }
      ],
      "source": [
        "num_layers = 4\n",
        "d_model = 128\n",
        "num_heads = 8\n",
        "dff = 512\n",
        "input_vocab_size = 8500\n",
        "target_vocab_size = 8000\n",
        "maximum_position_encoding = 10000\n",
        "dropout_rate = 0.1\n",
        "\n",
        "transformer = Transformer(\n",
        "    num_layers,\n",
        "    d_model,\n",
        "    num_heads,\n",
        "    dff,\n",
        "    input_vocab_size,\n",
        "    target_vocab_size,\n",
        "    maximum_position_encoding,\n",
        "    dropout_rate\n",
        ")\n",
        "\n",
        "inputs = tf.random.uniform((64, 50), dtype=tf.int64, minval=0, maxval=input_vocab_size)\n",
        "targets = tf.random.uniform((64, 50), dtype=tf.int64, minval=0, maxval=target_vocab_size)\n",
        "\n",
        "look_ahead_mask = None\n",
        "padding_mask = None\n",
        "\n",
        "output = transformer((inputs, targets), training=True, look_ahead_mask=look_ahead_mask, padding_mask=padding_mask)\n",
        "print(output.shape)\n"
      ]
    },
    {
      "cell_type": "code",
      "execution_count": null,
      "metadata": {
        "id": "K3TjeFG-nExL"
      },
      "outputs": [],
      "source": []
    }
  ],
  "metadata": {
    "colab": {
      "provenance": []
    },
    "kernelspec": {
      "display_name": "Python 3",
      "name": "python3"
    },
    "language_info": {
      "codemirror_mode": {
        "name": "ipython",
        "version": 3
      },
      "file_extension": ".py",
      "mimetype": "text/x-python",
      "name": "python",
      "nbconvert_exporter": "python",
      "pygments_lexer": "ipython3",
      "version": "3.10.11"
    }
  },
  "nbformat": 4,
  "nbformat_minor": 0
}
